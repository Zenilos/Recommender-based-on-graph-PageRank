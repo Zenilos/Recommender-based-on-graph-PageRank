{
  "nbformat": 4,
  "nbformat_minor": 0,
  "metadata": {
    "colab": {
      "provenance": []
    },
    "kernelspec": {
      "name": "python3",
      "display_name": "Python 3"
    },
    "language_info": {
      "name": "python"
    }
  },
  "cells": [
    {
      "cell_type": "markdown",
      "source": [
        "This notebook is based on this post:<br>\n",
        "https://techno-paji.medium.com/building-a-recommendation-engine-using-graph-machine-learning-gml-e2c2b075b59e"
      ],
      "metadata": {
        "id": "cUAB-D-Uf_yK"
      }
    },
    {
      "cell_type": "code",
      "source": [
        "!pip install networkx==2.6.3"
      ],
      "metadata": {
        "colab": {
          "base_uri": "https://localhost:8080/"
        },
        "id": "l5Dw7JT5fnry",
        "outputId": "61049fc5-13b8-4554-b9c8-2fc09ab16d10"
      },
      "execution_count": 1,
      "outputs": [
        {
          "output_type": "stream",
          "name": "stdout",
          "text": [
            "Looking in indexes: https://pypi.org/simple, https://us-python.pkg.dev/colab-wheels/public/simple/\n",
            "Collecting networkx==2.6.3\n",
            "  Downloading networkx-2.6.3-py3-none-any.whl (1.9 MB)\n",
            "\u001b[2K     \u001b[90m━━━━━━━━━━━━━━━━━━━━━━━━━━━━━━━━━━━━━━━━\u001b[0m \u001b[32m1.9/1.9 MB\u001b[0m \u001b[31m21.5 MB/s\u001b[0m eta \u001b[36m0:00:00\u001b[0m\n",
            "\u001b[?25hInstalling collected packages: networkx\n",
            "  Attempting uninstall: networkx\n",
            "    Found existing installation: networkx 3.0\n",
            "    Uninstalling networkx-3.0:\n",
            "      Successfully uninstalled networkx-3.0\n",
            "Successfully installed networkx-2.6.3\n"
          ]
        }
      ]
    },
    {
      "cell_type": "code",
      "execution_count": 2,
      "metadata": {
        "colab": {
          "base_uri": "https://localhost:8080/"
        },
        "id": "_rAAUBNZfRJQ",
        "outputId": "3f312ace-f300-46e2-efa8-ef606408529d"
      },
      "outputs": [
        {
          "output_type": "stream",
          "name": "stdout",
          "text": [
            "Movie 2\n",
            "Movie 3\n",
            "Movie 1\n"
          ]
        }
      ],
      "source": [
        "import networkx as nx\n",
        "\n",
        "# Create a new graph\n",
        "G = nx.Graph()\n",
        "# Add nodes for the movies\n",
        "G.add_nodes_from([\"Movie 1\", \"Movie 2\", \"Movie 3\", \"Movie 4\"])\n",
        "# Add edges representing relationships between movies (e.g., similar genres)\n",
        "G.add_edge(\"Movie 1\", \"Movie 2\")\n",
        "G.add_edge(\"Movie 2\", \"Movie 3\")\n",
        "G.add_edge(\"Movie 3\", \"Movie 4\")\n",
        "# Run the PageRank algorithm\n",
        "pr = nx.pagerank(G)\n",
        "# Sort the movies by their PageRank scores\n",
        "sorted_movies = sorted(pr.items(), key=lambda x: x[1], reverse=True)\n",
        "# Print the top movie recommendations for the user\n",
        "for movie, score in sorted_movies[:3]:\n",
        "    print(movie)"
      ]
    },
    {
      "cell_type": "code",
      "source": [
        "# Add nodes for the users\n",
        "G.add_nodes_from([\"User 1\", \"User 2\", \"User 3\"])\n",
        "\n",
        "# Add edges representing relationships between users and movies (e.g., watched or liked)\n",
        "G.add_edge(\"User 1\", \"Movie 1\")\n",
        "G.add_edge(\"User 1\", \"Movie 2\")\n",
        "G.add_edge(\"User 2\", \"Movie 2\")\n",
        "G.add_edge(\"User 2\", \"Movie 3\")\n",
        "G.add_edge(\"User 3\", \"Movie 3\")\n",
        "G.add_edge(\"User 3\", \"Movie 4\")\n",
        "\n",
        "# Use a graph algorithm to analyze the relationships between users and movies\n",
        "# and make recommendations based on the preferences of similar users\n",
        "similar_users = nx.common_neighbors(G, \"User 1\", \"User 2\")\n",
        "# Print the recommended movies for the user\n",
        "for movie in similar_users:\n",
        "    print(movie)"
      ],
      "metadata": {
        "colab": {
          "base_uri": "https://localhost:8080/"
        },
        "id": "LY6E6QzYfSVg",
        "outputId": "35726518-26db-46d9-9924-a28f2b548413"
      },
      "execution_count": 3,
      "outputs": [
        {
          "output_type": "stream",
          "name": "stdout",
          "text": [
            "Movie 2\n"
          ]
        }
      ]
    },
    {
      "cell_type": "code",
      "source": [
        "nx.draw(G,with_labels=True)"
      ],
      "metadata": {
        "colab": {
          "base_uri": "https://localhost:8080/",
          "height": 319
        },
        "id": "gSgsOidTomsG",
        "outputId": "e40e395b-342c-4299-9551-1cb89a5bb719"
      },
      "execution_count": 6,
      "outputs": [
        {
          "output_type": "display_data",
          "data": {
            "text/plain": [
              "<Figure size 432x288 with 1 Axes>"
            ],
            "image/png": "[encoded data removed]"
          },
          "metadata": {}
        }
      ]
    }
  ]
}