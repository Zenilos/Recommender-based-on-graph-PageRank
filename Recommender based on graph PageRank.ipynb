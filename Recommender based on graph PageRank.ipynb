{
  "nbformat": 4,
  "nbformat_minor": 0,
  "metadata": {
    "colab": {
      "provenance": []
    },
    "kernelspec": {
      "name": "python3",
      "display_name": "Python 3"
    },
    "language_info": {
      "name": "python"
    }
  },
  "cells": [
    {
      "cell_type": "markdown",
      "source": [
        "This notebook is based on this post:<br>\n",
        "https://techno-paji.medium.com/building-a-recommendation-engine-using-graph-machine-learning-gml-e2c2b075b59e"
      ],
      "metadata": {
        "id": "cUAB-D-Uf_yK"
      }
    },
    {
      "cell_type": "code",
      "source": [
        "!pip install networkx==2.6.3"
      ],
      "metadata": {
        "colab": {
          "base_uri": "https://localhost:8080/"
        },
        "id": "l5Dw7JT5fnry",
        "outputId": "b1e9b997-334b-4553-881b-4186b0f07b23"
      },
      "execution_count": null,
      "outputs": [
        {
          "output_type": "stream",
          "name": "stdout",
          "text": [
            "Looking in indexes: https://pypi.org/simple, https://us-python.pkg.dev/colab-wheels/public/simple/\n",
            "Requirement already satisfied: networkx==2.6.3 in /usr/local/lib/python3.8/dist-packages (2.6.3)\n"
          ]
        }
      ]
    },
    {
      "cell_type": "code",
      "execution_count": null,
      "metadata": {
        "colab": {
          "base_uri": "https://localhost:8080/"
        },
        "id": "_rAAUBNZfRJQ",
        "outputId": "fb511ba6-ea65-485f-acc9-4aefdf8c3759"
      },
      "outputs": [
        {
          "output_type": "stream",
          "name": "stdout",
          "text": [
            "Movie 2\n",
            "Movie 3\n",
            "Movie 1\n"
          ]
        }
      ],
      "source": [
        "import networkx as nx\n",
        "\n",
        "# Create a new graph\n",
        "G = nx.Graph()\n",
        "# Add nodes for the movies\n",
        "G.add_nodes_from([\"Movie 1\", \"Movie 2\", \"Movie 3\", \"Movie 4\"])\n",
        "# Add edges representing relationships between movies (e.g., similar genres)\n",
        "G.add_edge(\"Movie 1\", \"Movie 2\")\n",
        "G.add_edge(\"Movie 2\", \"Movie 3\")\n",
        "G.add_edge(\"Movie 3\", \"Movie 4\")\n",
        "# Run the PageRank algorithm\n",
        "pr = nx.pagerank(G)\n",
        "# Sort the movies by their PageRank scores\n",
        "sorted_movies = sorted(pr.items(), key=lambda x: x[1], reverse=True)\n",
        "# Print the top movie recommendations for the user\n",
        "for movie, score in sorted_movies[:3]:\n",
        "    print(movie)"
      ]
    },
    {
      "cell_type": "code",
      "source": [
        "# Add nodes for the users\n",
        "G.add_nodes_from([\"User 1\", \"User 2\", \"User 3\"])\n",
        "\n",
        "# Add edges representing relationships between users and movies (e.g., watched or liked)\n",
        "G.add_edge(\"User 1\", \"Movie 1\")\n",
        "G.add_edge(\"User 1\", \"Movie 2\")\n",
        "G.add_edge(\"User 2\", \"Movie 2\")\n",
        "G.add_edge(\"User 2\", \"Movie 3\")\n",
        "G.add_edge(\"User 3\", \"Movie 3\")\n",
        "G.add_edge(\"User 3\", \"Movie 4\")\n",
        "\n",
        "# Use a graph algorithm to analyze the relationships between users and movies\n",
        "# and make recommendations based on the preferences of similar users\n",
        "similar_users = nx.common_neighbors(G, \"User 1\", \"User 2\")\n",
        "# Print the recommended movies for the user\n",
        "for movie in similar_users:\n",
        "    print(movie)"
      ],
      "metadata": {
        "colab": {
          "base_uri": "https://localhost:8080/"
        },
        "id": "LY6E6QzYfSVg",
        "outputId": "7dd47005-3464-497a-96ea-33d458b22fc1"
      },
      "execution_count": null,
      "outputs": [
        {
          "output_type": "stream",
          "name": "stdout",
          "text": [
            "Movie 2\n"
          ]
        }
      ]
    }
  ]
}